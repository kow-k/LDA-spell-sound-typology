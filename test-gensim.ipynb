{
 "cells": [
  {
   "cell_type": "code",
   "execution_count": 1,
   "id": "aac9a688",
   "metadata": {},
   "outputs": [],
   "source": [
    "import gensim"
   ]
  },
  {
   "cell_type": "code",
   "execution_count": 2,
   "id": "d3f8607a",
   "metadata": {},
   "outputs": [
    {
     "data": {
      "text/plain": [
       "['__builtins__',\n",
       " '__cached__',\n",
       " '__doc__',\n",
       " '__file__',\n",
       " '__loader__',\n",
       " '__name__',\n",
       " '__package__',\n",
       " '__path__',\n",
       " '__spec__',\n",
       " '__version__',\n",
       " '_matutils',\n",
       " 'corpora',\n",
       " 'interfaces',\n",
       " 'logger',\n",
       " 'logging',\n",
       " 'matutils',\n",
       " 'models',\n",
       " 'parsing',\n",
       " 'similarities',\n",
       " 'topic_coherence',\n",
       " 'utils']"
      ]
     },
     "execution_count": 2,
     "metadata": {},
     "output_type": "execute_result"
    }
   ],
   "source": [
    "dir(gensim)"
   ]
  },
  {
   "cell_type": "code",
   "execution_count": 3,
   "id": "8f08a589",
   "metadata": {},
   "outputs": [
    {
     "data": {
      "text/plain": [
       "['AuthorTopicModel',\n",
       " 'BackMappingTranslationMatrix',\n",
       " 'CoherenceModel',\n",
       " 'Doc2Vec',\n",
       " 'FAST_VERSION',\n",
       " 'FastText',\n",
       " 'HdpModel',\n",
       " 'KeyedVectors',\n",
       " 'LdaModel',\n",
       " 'LdaMulticore',\n",
       " 'LdaSeqModel',\n",
       " 'LogEntropyModel',\n",
       " 'LsiModel',\n",
       " 'NormModel',\n",
       " 'Phrases',\n",
       " 'RpModel',\n",
       " 'TfidfModel',\n",
       " 'TranslationMatrix',\n",
       " 'VocabTransform',\n",
       " 'Word2Vec',\n",
       " '__builtins__',\n",
       " '__cached__',\n",
       " '__doc__',\n",
       " '__file__',\n",
       " '__loader__',\n",
       " '__name__',\n",
       " '__package__',\n",
       " '__path__',\n",
       " '__spec__',\n",
       " '_fasttext_bin',\n",
       " 'atmodel',\n",
       " 'basemodel',\n",
       " 'callbacks',\n",
       " 'coherencemodel',\n",
       " 'doc2vec',\n",
       " 'doc2vec_corpusfile',\n",
       " 'doc2vec_inner',\n",
       " 'fasttext',\n",
       " 'fasttext_corpusfile',\n",
       " 'fasttext_inner',\n",
       " 'hdpmodel',\n",
       " 'interfaces',\n",
       " 'keyedvectors',\n",
       " 'ldamodel',\n",
       " 'ldamulticore',\n",
       " 'ldaseqmodel',\n",
       " 'logentropy_model',\n",
       " 'lsimodel',\n",
       " 'normmodel',\n",
       " 'phrases',\n",
       " 'rpmodel',\n",
       " 'tfidfmodel',\n",
       " 'translation_matrix',\n",
       " 'utils',\n",
       " 'word2vec',\n",
       " 'word2vec_corpusfile',\n",
       " 'word2vec_inner']"
      ]
     },
     "execution_count": 3,
     "metadata": {},
     "output_type": "execute_result"
    }
   ],
   "source": [
    "dir(gensim.models)"
   ]
  },
  {
   "cell_type": "code",
   "execution_count": 5,
   "id": "009319bd",
   "metadata": {},
   "outputs": [
    {
     "data": {
      "text/plain": [
       "[[(0, 1), (1, 1), (2, 1)],\n",
       " [(0, 1), (3, 1), (4, 1), (5, 1), (6, 1), (7, 1)],\n",
       " [(2, 1), (5, 1), (7, 1), (8, 1)],\n",
       " [(1, 1), (5, 2), (8, 1)],\n",
       " [(3, 1), (6, 1), (7, 1)],\n",
       " [(9, 1)],\n",
       " [(9, 1), (10, 1)],\n",
       " [(9, 1), (10, 1), (11, 1)],\n",
       " [(4, 1), (10, 1), (11, 1)]]"
      ]
     },
     "execution_count": 5,
     "metadata": {},
     "output_type": "execute_result"
    }
   ],
   "source": [
    "from gensim.test.utils import common_corpus\n",
    "\n",
    "common_corpus"
   ]
  },
  {
   "cell_type": "code",
   "execution_count": 8,
   "id": "fd5e6805",
   "metadata": {},
   "outputs": [
    {
     "name": "stderr",
     "output_type": "stream",
     "text": [
      "/Users/kowk/anaconda3/lib/python3.6/site-packages/gensim/models/ldaseqmodel.py:297: RuntimeWarning: divide by zero encountered in double_scalars\n",
      "  convergence = np.fabs((bound - old_bound) / old_bound)\n"
     ]
    }
   ],
   "source": [
    "from gensim.models import LdaSeqModel\n",
    "\n",
    "ldaseq = LdaSeqModel(corpus = common_corpus, time_slice = [2,4,3], num_topics = 2, chunksize = 1)\n"
   ]
  },
  {
   "cell_type": "code",
   "execution_count": 10,
   "id": "71b033d6",
   "metadata": {},
   "outputs": [],
   "source": [
    "from gensim.test.utils import datapath\n",
    "\n",
    "temp_file = datapath(\"model\")\n",
    "ldaseq.save(temp_file)"
   ]
  },
  {
   "cell_type": "code",
   "execution_count": 11,
   "id": "e202e0a2",
   "metadata": {},
   "outputs": [],
   "source": [
    "ldaseq = LdaSeqModel.load(temp_file)"
   ]
  },
  {
   "cell_type": "code",
   "execution_count": 12,
   "id": "f8d087a8",
   "metadata": {},
   "outputs": [],
   "source": [
    "doc = common_corpus[1]\n",
    "\n",
    "embedding = ldaseq[doc]"
   ]
  },
  {
   "cell_type": "code",
   "execution_count": 13,
   "id": "32821b6d",
   "metadata": {},
   "outputs": [
    {
     "data": {
      "text/plain": [
       "array([0.99833887, 0.00166113])"
      ]
     },
     "execution_count": 13,
     "metadata": {},
     "output_type": "execute_result"
    }
   ],
   "source": [
    "embedding\n"
   ]
  },
  {
   "cell_type": "code",
   "execution_count": null,
   "id": "0b8af8dc",
   "metadata": {},
   "outputs": [],
   "source": []
  }
 ],
 "metadata": {
  "kernelspec": {
   "display_name": "Python 3",
   "language": "python",
   "name": "python3"
  },
  "language_info": {
   "codemirror_mode": {
    "name": "ipython",
    "version": 3
   },
   "file_extension": ".py",
   "mimetype": "text/x-python",
   "name": "python",
   "nbconvert_exporter": "python",
   "pygments_lexer": "ipython3",
   "version": "3.6.8"
  }
 },
 "nbformat": 4,
 "nbformat_minor": 5
}
